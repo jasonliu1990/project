{
 "cells": [
  {
   "cell_type": "code",
   "execution_count": null,
   "metadata": {},
   "outputs": [],
   "source": [
    "import nltk\n",
    "import jieba\n",
    "import pandas as pd\n",
    "import numpy as np\n",
    "from pymongo import MongoClient\n",
    "import re\n",
    "from collections import Counter\n",
    "import math"
   ]
  },
  {
   "cell_type": "code",
   "execution_count": null,
   "metadata": {},
   "outputs": [],
   "source": [
    "def get_data(host, database):\n",
    "    \n",
    "    \"\"\" 連接DB \n",
    "    \"\"\"    \n",
    "    client = MongoClient(host)\n",
    "    db = client[database]\n",
    "    collection = db.article\n",
    "    print(collection.stats)\n",
    "    \"\"\" 拿到data\n",
    "    \"\"\"\n",
    "    cursor = collection.find()\n",
    "    data = pd.DataFrame(list(cursor))\n",
    "    \n",
    "    \"\"\" 製作contents, corpus\n",
    "        用jieba.lcut返回list\n",
    "        濾掉符號\n",
    "    \"\"\"\n",
    "    content = data['contents']\n",
    "    corpus = []\n",
    "    for i in range(len(content)):\n",
    "        corpus.append(jieba.lcut(re.sub('[#！、，「」（）。《》()【】]','',content[i])))\n",
    "    \n",
    "    \"\"\" 製作corpus list\n",
    "    \"\"\"\n",
    "    corpus_list = []\n",
    "    for j in range(len(corpus)):\n",
    "        tmp = {'id':data._id.values[j],\n",
    "               'corpus':corpus[j]}\n",
    "        corpus_list.append(tmp)\n",
    "\n",
    "    print('finish')\n",
    "    \n",
    "    return data, corpus, content, corpus_list"
   ]
  },
  {
   "cell_type": "code",
   "execution_count": null,
   "metadata": {},
   "outputs": [],
   "source": [
    "host = host\n",
    "database = database\n",
    "\n",
    "data, corpus, content, corpus_list = get_data(host, database)"
   ]
  },
  {
   "cell_type": "code",
   "execution_count": null,
   "metadata": {},
   "outputs": [],
   "source": [
    "def make_tfidf(corpora):\n",
    "     \n",
    "    corpus = np.array(corpora['corpus'])\n",
    "    _id = np.array(corpora['id'])\n",
    "       \n",
    "    count = Counter(corpus)\n",
    "   \n",
    "    \"\"\" TF\n",
    "    \"\"\"\n",
    "    tf = np.array(list(count.values())) / len(corpus)\n",
    "\n",
    "    \"\"\" IDF\n",
    "    \"\"\"    \n",
    "    word = np.array(list(count.keys()))\n",
    "    count = np.array([np.zeros(len(word))])\n",
    "    \n",
    "    for i in range(len(content)):\n",
    "        contents = content[i]\n",
    "        tmp = np.array(list(map(lambda x: 1 if x in contents else 0,word)))\n",
    "        count = count + tmp\n",
    "        \n",
    "    count_in_corpus = count[0]    \n",
    "    idf = list(map(lambda x: math.log(len(content)/(x+1)), count_in_corpus))\n",
    "    \n",
    "    \"\"\" TF-IDF\n",
    "    \"\"\"\n",
    "    tf_idf = tf * idf\n",
    "\n",
    "    \"\"\" dict\n",
    "    \"\"\"\n",
    "    tmp_dict = pd.DataFrame( { '_id': _id,\n",
    "                 'key': word, \n",
    "                 'tf-idf':tf_idf}  )    \n",
    "\n",
    "    return tmp_dict"
   ]
  },
  {
   "cell_type": "code",
   "execution_count": null,
   "metadata": {},
   "outputs": [],
   "source": [
    "\"\"\" 全部的tfidf\n",
    "    裝入一個list\n",
    "\"\"\"\n",
    "tfidf_list = list(map(lambda x: make_tfidf(x),corpus_list))"
   ]
  },
  {
   "cell_type": "code",
   "execution_count": null,
   "metadata": {},
   "outputs": [],
   "source": [
    "\"\"\" 篩出前15的詞\n",
    "\"\"\"\n",
    "top15 = list(map(lambda x: x.sort_values(['tf-idf'],ascending=False).head(15).reset_index(), tfidf_list))"
   ]
  }
 ],
 "metadata": {
  "kernelspec": {
   "display_name": "'NLP'",
   "language": "python",
   "name": "nlp"
  },
  "language_info": {
   "codemirror_mode": {
    "name": "ipython",
    "version": 3
   },
   "file_extension": ".py",
   "mimetype": "text/x-python",
   "name": "python",
   "nbconvert_exporter": "python",
   "pygments_lexer": "ipython3",
   "version": "3.5.6"
  }
 },
 "nbformat": 4,
 "nbformat_minor": 2
}
