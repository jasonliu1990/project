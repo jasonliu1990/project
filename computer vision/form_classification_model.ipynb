{
 "cells": [
  {
   "cell_type": "code",
   "execution_count": 1,
   "metadata": {},
   "outputs": [],
   "source": [
    "import numpy as np\n",
    "from PIL import Image\n",
    "import tensorflow as tf\n",
    "import matplotlib.pyplot as plt\n",
    "%matplotlib inline\n",
    "np.set_printoptions(suppress=True) "
   ]
  },
  {
   "cell_type": "code",
   "execution_count": 2,
   "metadata": {},
   "outputs": [
    {
     "name": "stderr",
     "output_type": "stream",
     "text": [
      "Using TensorFlow backend.\n"
     ]
    }
   ],
   "source": [
    "import os\n",
    "from keras.preprocessing import image\n",
    "from keras.utils import np_utils, plot_model\n",
    "from sklearn.model_selection import train_test_split\n",
    "from sklearn.preprocessing import LabelEncoder\n",
    "from sklearn.preprocessing import OneHotEncoder"
   ]
  },
  {
   "cell_type": "markdown",
   "metadata": {},
   "source": [
    "## 準備訓練資料與測試資料"
   ]
  },
  {
   "cell_type": "code",
   "execution_count": 5,
   "metadata": {},
   "outputs": [],
   "source": [
    "def load_data(path):\n",
    "    path = path\n",
    "    files = os.listdir(path)\n",
    "    images = []\n",
    "    labels = []\n",
    "        \n",
    "    for f in files:\n",
    "        img_path = path + f\n",
    "        img = Image.open(img_path)\n",
    "        width = 48\n",
    "        height = 64\n",
    "        img = img.resize( (width, height), Image.BILINEAR )\n",
    "        img_array = image.img_to_array(img)\n",
    "        images.append(img_array)\n",
    "        \n",
    "        lb = f.split('_')[0]\n",
    "        labels.append(lb)\n",
    "\n",
    "    data = np.array(images)\n",
    "    labels = np.array(labels)\n",
    "\n",
    "    return data, labels"
   ]
  },
  {
   "cell_type": "code",
   "execution_count": 6,
   "metadata": {},
   "outputs": [
    {
     "name": "stdout",
     "output_type": "stream",
     "text": [
      "Loading data...\n",
      "finish\n"
     ]
    }
   ],
   "source": [
    "print ('Loading data...')\n",
    "data, labels = load_data(path='./train/')\n",
    "data -= np.mean(data,axis=0)\n",
    "print ('finish')"
   ]
  },
  {
   "cell_type": "markdown",
   "metadata": {},
   "source": [
    "## 切分資料\n",
    "* train\n",
    "* val\n",
    "* generator要的資料"
   ]
  },
  {
   "cell_type": "code",
   "execution_count": 7,
   "metadata": {},
   "outputs": [],
   "source": [
    "Label = np.unique(labels)\n",
    "le = LabelEncoder()\n",
    "labels_le = le.fit_transform(labels)"
   ]
  },
  {
   "cell_type": "code",
   "execution_count": 8,
   "metadata": {},
   "outputs": [],
   "source": [
    "(trainX, valX, trainY, valY) = train_test_split(data, labels_le, test_size=0.1)\n",
    "\n",
    "trainY_onehot = np_utils.to_categorical(trainY,num_classes=4)\n",
    "valY_onehot = np_utils.to_categorical(valY,num_classes=4)\n",
    "\n",
    "labels_le_onehot = np_utils.to_categorical(labels_le, num_classes=4)"
   ]
  },
  {
   "cell_type": "code",
   "execution_count": 9,
   "metadata": {},
   "outputs": [
    {
     "name": "stdout",
     "output_type": "stream",
     "text": [
      "(88, 64, 48, 3)\n",
      "(10, 64, 48, 3)\n",
      "(88, 4)\n",
      "(10, 4)\n",
      "(98, 4)\n"
     ]
    }
   ],
   "source": [
    "print(trainX.shape)\n",
    "print(valX.shape)\n",
    "print(trainY_onehot.shape)\n",
    "print(valY_onehot.shape)\n",
    "print(labels_le_onehot.shape)"
   ]
  },
  {
   "cell_type": "markdown",
   "metadata": {},
   "source": [
    "## 模型建立"
   ]
  },
  {
   "cell_type": "code",
   "execution_count": 3,
   "metadata": {},
   "outputs": [],
   "source": [
    "from keras.preprocessing.image import ImageDataGenerator\n",
    "from keras import optimizers\n",
    "from keras.models import Sequential\n",
    "from keras.layers import Dense,Conv2D,MaxPooling2D,Flatten,Dropout,Activation,BatchNormalization\n",
    "from keras.callbacks import ModelCheckpoint, EarlyStopping, ReduceLROnPlateau"
   ]
  },
  {
   "cell_type": "code",
   "execution_count": 11,
   "metadata": {},
   "outputs": [],
   "source": [
    "class MY_CNN(object):\n",
    "    '''建立一個CNN模型'''\n",
    "    def __init__(self,in_shape,out_classes):\n",
    "        \n",
    "        self.in_shape=in_shape\n",
    "        self.out_classes=out_classes\n",
    "        \n",
    "    def build_model(self):\n",
    "        '''以Sequential()逐層疊加模型。'''\n",
    "        \n",
    "        model = Sequential()\n",
    "              \n",
    "        # conv block 1\n",
    "        model.add(Conv2D(64, (3,3), padding=\"same\",activation=\"relu\",\n",
    "                                     input_shape=self.in_shape) )\n",
    "        model.add(Conv2D(64, (3,3), padding=\"same\" ,activation=\"relu\"))\n",
    "        model.add(MaxPooling2D(pool_size=(2, 2)))\n",
    "        model.add(BatchNormalization())\n",
    "        model.add(Dropout(0.3))\n",
    "        \n",
    "        # conv block 2\n",
    "        model.add(Conv2D(128, (3,3), padding='same',activation=\"relu\"))\n",
    "        model.add(Conv2D(128, (3,3), padding=\"same\",activation=\"relu\"))\n",
    "        model.add(MaxPooling2D(pool_size=(2, 2)))\n",
    "        model.add(BatchNormalization())\n",
    "        model.add(Dropout(0.2))\n",
    "        # conv block 3\n",
    "        model.add(Conv2D(256, (3,3), padding='same',activation=\"relu\"))\n",
    "        model.add(Conv2D(256, (3,3), padding=\"same\",activation=\"relu\"))\n",
    "        model.add(MaxPooling2D(pool_size=(2, 2)))\n",
    "        model.add(BatchNormalization())\n",
    "        model.add(Dropout(0.1))\n",
    "        \n",
    "         # conv block 4\n",
    "        model.add(Conv2D(512, (3,3), padding='same',activation=\"relu\"))\n",
    "        model.add(Conv2D(512, (3,3), padding=\"same\",activation=\"relu\"))\n",
    "        model.add(MaxPooling2D(pool_size=(2, 2)))\n",
    "        model.add(BatchNormalization())\n",
    "        model.add(Dropout(0.1))\n",
    "\n",
    "        # dense block\n",
    "        model.add(Flatten())\n",
    "        model.add(Dense(1024,activation=\"relu\"))\n",
    "        model.add(BatchNormalization())\n",
    "        model.add(Dropout(0.01))\n",
    "        model.add(Dense(1024,activation=\"relu\"))\n",
    "        model.add(BatchNormalization())\n",
    "        model.add(Dropout(0.01))\n",
    "\n",
    "        model.add(Dense(self.out_classes))\n",
    "        model.add(Activation('softmax'))\n",
    "        return model"
   ]
  },
  {
   "cell_type": "markdown",
   "metadata": {},
   "source": [
    "## 用generator生圖片fit"
   ]
  },
  {
   "cell_type": "code",
   "execution_count": 109,
   "metadata": {},
   "outputs": [],
   "source": [
    "\"\"\" 產生generator\n",
    "\"\"\"\n",
    "gen = image.ImageDataGenerator(featurewise_center=True, # 去中心化\n",
    "                               samplewise_center=False, # 使樣本均值為0\n",
    "                               rotation_range=45, # 隨機轉動的角度\n",
    "                               width_shift_range=0.2, # 水平偏移的幅度\n",
    "                               height_shift_range=0.2, # 垂直偏移的幅度\n",
    "                               shear_range=0.3, # 剪切強度\n",
    "                               zoom_range=0.2, # 隨機縮放的強度\n",
    "                               horizontal_flip=True, # 水平翻轉\n",
    "                               vertical_flip=True, # 垂直翻轉\n",
    "                               fill_mode='constant',\n",
    "                               data_format='channels_last'\n",
    "                               )\n",
    "gen.fit(data)\n",
    "train_generator = gen.flow(data,labels_le_onehot,batch_size=100000)"
   ]
  },
  {
   "cell_type": "code",
   "execution_count": 110,
   "metadata": {},
   "outputs": [
    {
     "name": "stdout",
     "output_type": "stream",
     "text": [
      "Epoch 1/5\n",
      "1000/1000 [==============================] - 201s 201ms/step - loss: 0.0360 - acc: 0.9879 - val_loss: 4.8701e-04 - val_acc: 1.0000\n",
      "Epoch 2/5\n",
      "1000/1000 [==============================] - 198s 198ms/step - loss: 0.0021 - acc: 0.9994 - val_loss: 0.0781 - val_acc: 0.9000\n",
      "Epoch 3/5\n",
      "1000/1000 [==============================] - 198s 198ms/step - loss: 0.0021 - acc: 0.9994 - val_loss: 0.0024 - val_acc: 1.0000\n",
      "Epoch 4/5\n",
      "1000/1000 [==============================] - 199s 199ms/step - loss: 3.6573e-04 - acc: 0.9999 - val_loss: 9.0722e-06 - val_acc: 1.0000\n",
      "Epoch 5/5\n",
      "1000/1000 [==============================] - 199s 199ms/step - loss: 0.0035 - acc: 0.9991 - val_loss: 1.3709e-07 - val_acc: 1.0000\n"
     ]
    },
    {
     "data": {
      "image/png": "[encoded data removed]",
      "text/plain": [
       "<Figure size 432x288 with 1 Axes>"
      ]
     },
     "metadata": {
      "needs_background": "light"
     },
     "output_type": "display_data"
    }
   ],
   "source": [
    "# 取得模型\n",
    "model=MY_CNN(in_shape=(data.shape[1], data.shape[2], 3),out_classes=4).build_model()\n",
    "# 編譯模型：給定模型目標和訓練方式。\n",
    "opt = optimizers.Adam(lr=0.0001)\n",
    "callbacks = [\n",
    "        EarlyStopping(monitor='val_loss', patience=10, verbose=0),\n",
    "        ReduceLROnPlateau(monitor='val_loss', factor=0.1, patience=7, verbose=1, min_delta=1e-4, mode='min')\n",
    "        ]\n",
    "model.compile(loss=\"categorical_crossentropy\",optimizer=opt,metrics=[\"accuracy\"])\n",
    "# 訓練模型\n",
    "history = model.fit_generator(train_generator,steps_per_epoch=1000,epochs=5,validation_data=(valX,valY_onehot))\n",
    "# 畫出訓練過程\n",
    "plt.plot(history.history['acc'],ms=5,marker='o',label='accuracy')\n",
    "plt.plot(history.history['val_acc'],ms=5,marker='o',label='val accuracy')\n",
    "plt.legend()\n",
    "plt.show()"
   ]
  },
  {
   "cell_type": "code",
   "execution_count": 45,
   "metadata": {},
   "outputs": [],
   "source": [
    "# del model"
   ]
  },
  {
   "cell_type": "code",
   "execution_count": 120,
   "metadata": {},
   "outputs": [],
   "source": [
    "# 存模型\n",
    "model.save('Model_5.h5') \n",
    "# 載入模型:\n",
    "#tf.contrib.keras.models.load_model('model.h5')"
   ]
  },
  {
   "cell_type": "markdown",
   "metadata": {},
   "source": [
    "## test"
   ]
  },
  {
   "cell_type": "code",
   "execution_count": 58,
   "metadata": {},
   "outputs": [],
   "source": [
    "from sklearn.metrics import confusion_matrix, accuracy_score"
   ]
  },
  {
   "cell_type": "code",
   "execution_count": 59,
   "metadata": {},
   "outputs": [
    {
     "name": "stdout",
     "output_type": "stream",
     "text": [
      "Loading data...\n",
      "finish\n"
     ]
    }
   ],
   "source": [
    "print ('Loading data...')\n",
    "testX, testY = load_data(path='./test/')\n",
    "testX -= np.mean(testX,axis=0)\n",
    "print ('finish')"
   ]
  },
  {
   "cell_type": "code",
   "execution_count": 60,
   "metadata": {},
   "outputs": [],
   "source": [
    "testY_label = testY\n",
    "le = LabelEncoder()\n",
    "testY_le = le.fit_transform(testY)"
   ]
  },
  {
   "cell_type": "code",
   "execution_count": 61,
   "metadata": {},
   "outputs": [],
   "source": [
    "model = tf.contrib.keras.models.load_model('Model_5.h5')"
   ]
  },
  {
   "cell_type": "code",
   "execution_count": 62,
   "metadata": {},
   "outputs": [],
   "source": [
    "pred = model.predict(testX)"
   ]
  },
  {
   "cell_type": "code",
   "execution_count": 63,
   "metadata": {},
   "outputs": [],
   "source": [
    "enc = OneHotEncoder()\n",
    "\n",
    "def props_to_onehot(props):\n",
    "    if isinstance(props, list):\n",
    "        props = np.array(props)\n",
    "    a = np.argmax(props, axis=1)\n",
    "    b = np.zeros((len(a), props.shape[1]))\n",
    "    b[np.arange(len(a)), a] = 1\n",
    "    return b\n",
    "\n",
    "\n",
    "pred_onehot = props_to_onehot(pred)\n",
    "\n",
    "pred_le = []\n",
    "for i in range(len(pred)):\n",
    "    \n",
    "    if pred_onehot[i][0] == 1:\n",
    "        tmp = 0\n",
    "    elif pred_onehot[i][1] ==1:\n",
    "        tmp = 1\n",
    "    elif pred_onehot[i][2] ==1:\n",
    "        tmp = 2\n",
    "    else: \n",
    "        tmp = 3\n",
    "    pred_le.append(tmp)"
   ]
  },
  {
   "cell_type": "code",
   "execution_count": 64,
   "metadata": {},
   "outputs": [
    {
     "data": {
      "text/plain": [
       "array([[10,  0,  0,  0],\n",
       "       [ 0, 10,  0,  0],\n",
       "       [ 0,  0, 10,  0],\n",
       "       [ 0,  0,  0, 10]], dtype=int64)"
      ]
     },
     "execution_count": 64,
     "metadata": {},
     "output_type": "execute_result"
    }
   ],
   "source": [
    "confusion_matrix(testY_le, pred_le)"
   ]
  },
  {
   "cell_type": "code",
   "execution_count": 65,
   "metadata": {},
   "outputs": [
    {
     "data": {
      "text/plain": [
       "1.0"
      ]
     },
     "execution_count": 65,
     "metadata": {},
     "output_type": "execute_result"
    }
   ],
   "source": [
    "accuracy_score(testY_le, pred_le)"
   ]
  }
 ],
 "metadata": {
  "kernelspec": {
   "display_name": "tensorFlowGpu",
   "language": "python",
   "name": "tensorflowgpu"
  },
  "language_info": {
   "codemirror_mode": {
    "name": "ipython",
    "version": 3
   },
   "file_extension": ".py",
   "mimetype": "text/x-python",
   "name": "python",
   "nbconvert_exporter": "python",
   "pygments_lexer": "ipython3",
   "version": "3.6.8"
  }
 },
 "nbformat": 4,
 "nbformat_minor": 2
}
