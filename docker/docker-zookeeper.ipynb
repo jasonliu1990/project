{
 "cells": [
  {
   "cell_type": "markdown",
   "metadata": {},
   "source": [
    "# 用docker安裝zookeeper"
   ]
  },
  {
   "cell_type": "markdown",
   "metadata": {},
   "source": [
    "# 1. 準備<code>docker-compose.yml</code>文件"
   ]
  },
  {
   "cell_type": "markdown",
   "metadata": {},
   "source": [
    "version: '3.1'\n",
    "\n",
    "services:\n",
    "  zoo1:\n",
    "    image: zookeeper:3.4.13\n",
    "    restart: always\n",
    "    hostname: zoo1\n",
    "    container_name: zookeeper_1\n",
    "    #domainname: \n",
    "    ports:\n",
    "      - 2181:2181\n",
    "    volumes:\n",
    "      - /usr/local/docker_app/zookeeper/zoo1/data:/data\n",
    "      - /usr/local/docker_app/zookeeper/zoo1/datalog:/datalog\n",
    "    environment:\n",
    "      ZOO_MY_ID: 1\n",
    "      ZOO_SERVERS: server.1=zoo1:2888:3888 server.2=zoo2:2888:3888 server.3=zoo3:2888:3888\n",
    "\n",
    "  zoo2:\n",
    "    image: zookeeper:3.4.13\n",
    "    restart: always\n",
    "    hostname: zoo2\n",
    "    container_name: zookeeper_2\n",
    "    ports:\n",
    "      - 2182:2181\n",
    "    volumes:\n",
    "      - /usr/local/docker_app/zookeeper/zoo2/data:/data\n",
    "      - /usr/local/docker_app/zookeeper/zoo2/datalog:/datalog\n",
    "    environment:\n",
    "      ZOO_MY_ID: 2\n",
    "      ZOO_SERVERS: server.1=zoo1:2888:3888 server.2=zoo2:2888:3888 server.3=zoo3:2888:3888\n",
    "\n",
    "  zoo3:\n",
    "    image: zookeeper:3.4.13\n",
    "    restart: always\n",
    "    hostname: zoo3\n",
    "    container_name: zookeeper_3\n",
    "    ports:\n",
    "      - 2183:2181\n",
    "    volumes:\n",
    "      - /usr/local/docker_app/zookeeper/zoo3/data:/data\n",
    "      - /usr/local/docker_app/zookeeper/zoo3/datalog:/datalog\n",
    "    environment:\n",
    "      ZOO_MY_ID: 3\n",
    "      ZOO_SERVERS: server.1=zoo1:2888:3888 server.2=zoo2:2888:3888 server.3=zoo3:2888:3888\n",
    "    "
   ]
  },
  {
   "cell_type": "markdown",
   "metadata": {},
   "source": [
    "* 配置文件名默認為<code>docker-compose.yml</code> \n",
    "* 可以改為<code>zookeeper-compose.yml</code>"
   ]
  },
  {
   "cell_type": "markdown",
   "metadata": {},
   "source": [
    "# 2. 啟動zookeeper集群"
   ]
  },
  {
   "cell_type": "markdown",
   "metadata": {},
   "source": [
    "* 啟動(-d 後臺啟動)<br>\n",
    " $ <code>docker-compose -f zookeeper-compose.yml up -d</code> "
   ]
  },
  {
   "cell_type": "markdown",
   "metadata": {},
   "source": [
    "* 查看container狀況<br>\n",
    "$ <code>docker-compose -f zookeeper-compose.yml ps</code>"
   ]
  },
  {
   "cell_type": "markdown",
   "metadata": {},
   "source": [
    "# 3. 查看zookeeper集群狀態"
   ]
  },
  {
   "cell_type": "markdown",
   "metadata": {},
   "source": [
    "* zoo1<br>\n",
    "$ <code>docker exec -it zookeeper_1 /bin/sh</code><br>\n",
    "/zookeeper-3.4.11 # <code>zkServer.sh status</code>"
   ]
  },
  {
   "cell_type": "markdown",
   "metadata": {},
   "source": [
    "* zoo2<br>\n",
    "$ <code>docker exec -it zookeeper_2 /bin/sh </code><br>\n",
    "/zookeeper-3.4.11 # <code>zkServer.sh status </code>\n",
    "   "
   ]
  },
  {
   "cell_type": "markdown",
   "metadata": {},
   "source": [
    " * zoo3<br>\n",
    " $ <code>docker exec -it zookeeper_3 /bin/sh</code><br>\n",
    " /zookeeper-3.4.11 # <code> zkServer.sh status</code>"
   ]
  },
  {
   "cell_type": "markdown",
   "metadata": {},
   "source": [
    "* 啟動完成 \n"
   ]
  }
 ],
 "metadata": {
  "kernelspec": {
   "display_name": "tensorFlowGpu",
   "language": "python",
   "name": "tensorflowgpu"
  },
  "language_info": {
   "codemirror_mode": {
    "name": "ipython",
    "version": 3
   },
   "file_extension": ".py",
   "mimetype": "text/x-python",
   "name": "python",
   "nbconvert_exporter": "python",
   "pygments_lexer": "ipython3",
   "version": "3.6.8"
  }
 },
 "nbformat": 4,
 "nbformat_minor": 2
}
