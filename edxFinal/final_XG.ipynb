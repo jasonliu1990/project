{
 "cells": [
  {
   "cell_type": "code",
   "execution_count": 1,
   "metadata": {},
   "outputs": [],
   "source": [
    "import pandas as pd\n",
    "import numpy as np\n",
    "\n",
    "import matplotlib.pyplot as plt\n",
    "%matplotlib inline\n",
    "import seaborn as sns\n",
    "sns.set()\n",
    "\n",
    "from sklearn.model_selection import train_test_split\n",
    "from sklearn.metrics import accuracy_score"
   ]
  },
  {
   "cell_type": "code",
   "execution_count": 2,
   "metadata": {},
   "outputs": [
    {
     "data": {
      "text/plain": [
       "'0.81'"
      ]
     },
     "execution_count": 2,
     "metadata": {},
     "output_type": "execute_result"
    }
   ],
   "source": [
    "import xgboost as xgb\n",
    "xgb.__version__"
   ]
  },
  {
   "cell_type": "code",
   "execution_count": 3,
   "metadata": {},
   "outputs": [],
   "source": [
    "train = pd.read_csv(\"train_xgb_2.csv\")\n",
    "test = pd.read_csv(\"test_xgb_2.csv\")"
   ]
  },
  {
   "cell_type": "code",
   "execution_count": 4,
   "metadata": {},
   "outputs": [],
   "source": [
    "from xgboost import XGBRegressor"
   ]
  },
  {
   "cell_type": "code",
   "execution_count": 6,
   "metadata": {},
   "outputs": [],
   "source": [
    "paras = {'learning_rate': 0.1, 'n_estimators': 500, 'max_depth': 3, 'min_child_weight': 3, 'seed': 0,\n",
    "                    'subsample': 0.6, 'colsample_bytree': 0.8, 'gamma': 0.1, 'reg_alpha': 0.1, 'reg_lambda': 1}"
   ]
  },
  {
   "cell_type": "code",
   "execution_count": 14,
   "metadata": {},
   "outputs": [
    {
     "data": {
      "text/plain": [
       "XGBRegressor(base_score=0.5, booster='gbtree', colsample_bylevel=1,\n",
       "       colsample_bytree=0.8, gamma=0.1, learning_rate=0.1,\n",
       "       max_delta_step=0, max_depth=3, min_child_weight=3, missing=None,\n",
       "       n_estimators=500, n_jobs=1, nthread=None, objective='reg:linear',\n",
       "       random_state=0, reg_alpha=0.1, reg_lambda=1, scale_pos_weight=1,\n",
       "       seed=0, silent=True, subsample=0.6)"
      ]
     },
     "execution_count": 14,
     "metadata": {},
     "output_type": "execute_result"
    }
   ],
   "source": [
    "xgbr = XGBRegressor()\n",
    "xgbr"
   ]
  },
  {
   "cell_type": "code",
   "execution_count": 15,
   "metadata": {},
   "outputs": [],
   "source": [
    "model = xgbr.fit(train.iloc[:,:-1],train.iloc[:,-1])"
   ]
  },
  {
   "cell_type": "code",
   "execution_count": 16,
   "metadata": {},
   "outputs": [],
   "source": [
    "xgbr_pred = model.predict(test)"
   ]
  },
  {
   "cell_type": "code",
   "execution_count": 17,
   "metadata": {},
   "outputs": [],
   "source": [
    "xgbr_pred_df = pd.DataFrame(xgbr_pred)\n",
    "xgbr_pred_df = abs(round(xgbr_pred_df))"
   ]
  },
  {
   "cell_type": "code",
   "execution_count": 18,
   "metadata": {},
   "outputs": [],
   "source": [
    "xgbr_pred_df.to_csv(\"xgb_5.csv\")"
   ]
  },
  {
   "cell_type": "markdown",
   "metadata": {},
   "source": [
    "-----------"
   ]
  },
  {
   "cell_type": "code",
   "execution_count": 5,
   "metadata": {},
   "outputs": [
    {
     "name": "stderr",
     "output_type": "stream",
     "text": [
      "C:\\Users\\Jason\\Anaconda3\\lib\\site-packages\\sklearn\\cross_validation.py:41: DeprecationWarning: This module was deprecated in version 0.18 in favor of the model_selection module into which all the refactored classes and functions are moved. Also note that the interface of the new CV iterators are different from that of this module. This module will be removed in 0.20.\n",
      "  \"This module will be removed in 0.20.\", DeprecationWarning)\n",
      "C:\\Users\\Jason\\Anaconda3\\lib\\site-packages\\sklearn\\grid_search.py:42: DeprecationWarning: This module was deprecated in version 0.18 in favor of the model_selection module into which all the refactored classes and functions are moved. This module will be removed in 0.20.\n",
      "  DeprecationWarning)\n"
     ]
    }
   ],
   "source": [
    "import numpy as np\n",
    "import pandas as pd\n",
    "import xgboost as xgb\n",
    "from sklearn import preprocessing\n",
    "from sklearn import metrics\n",
    "from sklearn.preprocessing import Imputer\n",
    "from sklearn.grid_search import GridSearchCV\n"
   ]
  },
  {
   "cell_type": "markdown",
   "metadata": {},
   "source": [
    " n_estimators"
   ]
  },
  {
   "cell_type": "code",
   "execution_count": 6,
   "metadata": {},
   "outputs": [
    {
     "name": "stdout",
     "output_type": "stream",
     "text": [
      "Fitting 5 folds for each of 5 candidates, totalling 25 fits\n"
     ]
    },
    {
     "name": "stderr",
     "output_type": "stream",
     "text": [
      "[Parallel(n_jobs=4)]: Done  25 out of  25 | elapsed:   24.0s finished\n"
     ]
    },
    {
     "ename": "AttributeError",
     "evalue": "'GridSearchCV' object has no attribute 'cv_results_'",
     "output_type": "error",
     "traceback": [
      "\u001b[1;31m---------------------------------------------------------------------------\u001b[0m",
      "\u001b[1;31mAttributeError\u001b[0m                            Traceback (most recent call last)",
      "\u001b[1;32m<ipython-input-6-60c54837df25>\u001b[0m in \u001b[0;36m<module>\u001b[1;34m()\u001b[0m\n\u001b[0;32m      8\u001b[0m     \u001b[0moptimized_GBM\u001b[0m \u001b[1;33m=\u001b[0m \u001b[0mGridSearchCV\u001b[0m\u001b[1;33m(\u001b[0m\u001b[0mestimator\u001b[0m\u001b[1;33m=\u001b[0m\u001b[0mmodel\u001b[0m\u001b[1;33m,\u001b[0m \u001b[0mparam_grid\u001b[0m\u001b[1;33m=\u001b[0m\u001b[0mcv_params\u001b[0m\u001b[1;33m,\u001b[0m \u001b[0mscoring\u001b[0m\u001b[1;33m=\u001b[0m\u001b[1;34m'r2'\u001b[0m\u001b[1;33m,\u001b[0m \u001b[0mcv\u001b[0m\u001b[1;33m=\u001b[0m\u001b[1;36m5\u001b[0m\u001b[1;33m,\u001b[0m \u001b[0mverbose\u001b[0m\u001b[1;33m=\u001b[0m\u001b[1;36m1\u001b[0m\u001b[1;33m,\u001b[0m \u001b[0mn_jobs\u001b[0m\u001b[1;33m=\u001b[0m\u001b[1;36m4\u001b[0m\u001b[1;33m)\u001b[0m\u001b[1;33m\u001b[0m\u001b[0m\n\u001b[0;32m      9\u001b[0m     \u001b[0moptimized_GBM\u001b[0m\u001b[1;33m.\u001b[0m\u001b[0mfit\u001b[0m\u001b[1;33m(\u001b[0m\u001b[0mtrain\u001b[0m\u001b[1;33m.\u001b[0m\u001b[0miloc\u001b[0m\u001b[1;33m[\u001b[0m\u001b[1;33m:\u001b[0m\u001b[1;33m,\u001b[0m\u001b[1;33m:\u001b[0m\u001b[1;33m-\u001b[0m\u001b[1;36m1\u001b[0m\u001b[1;33m]\u001b[0m\u001b[1;33m,\u001b[0m\u001b[0mtrain\u001b[0m\u001b[1;33m.\u001b[0m\u001b[0miloc\u001b[0m\u001b[1;33m[\u001b[0m\u001b[1;33m:\u001b[0m\u001b[1;33m,\u001b[0m\u001b[1;33m-\u001b[0m\u001b[1;36m1\u001b[0m\u001b[1;33m]\u001b[0m\u001b[1;33m)\u001b[0m\u001b[1;33m\u001b[0m\u001b[0m\n\u001b[1;32m---> 10\u001b[1;33m     \u001b[0mevalute_result\u001b[0m \u001b[1;33m=\u001b[0m \u001b[0moptimized_GBM\u001b[0m\u001b[1;33m.\u001b[0m\u001b[0mcv_results_\u001b[0m\u001b[1;33m\u001b[0m\u001b[0m\n\u001b[0m\u001b[0;32m     11\u001b[0m     \u001b[0mprint\u001b[0m\u001b[1;33m(\u001b[0m\u001b[1;34m'result:{0}'\u001b[0m\u001b[1;33m.\u001b[0m\u001b[0mformat\u001b[0m\u001b[1;33m(\u001b[0m\u001b[0mevalute_result\u001b[0m\u001b[1;33m)\u001b[0m\u001b[1;33m)\u001b[0m\u001b[1;33m\u001b[0m\u001b[0m\n\u001b[0;32m     12\u001b[0m     \u001b[0mprint\u001b[0m\u001b[1;33m(\u001b[0m\u001b[1;34m'the best：{0}'\u001b[0m\u001b[1;33m.\u001b[0m\u001b[0mformat\u001b[0m\u001b[1;33m(\u001b[0m\u001b[0moptimized_GBM\u001b[0m\u001b[1;33m.\u001b[0m\u001b[0mbest_params_\u001b[0m\u001b[1;33m)\u001b[0m\u001b[1;33m)\u001b[0m\u001b[1;33m\u001b[0m\u001b[0m\n",
      "\u001b[1;31mAttributeError\u001b[0m: 'GridSearchCV' object has no attribute 'cv_results_'"
     ]
    }
   ],
   "source": [
    "if __name__ == '__main__':\n",
    "   \n",
    "    cv_params = {'n_estimators': [400, 500, 600, 700, 800]}\n",
    "    other_params = {'learning_rate': 0.1, 'n_estimators': 500, 'max_depth': 5, 'min_child_weight': 1, 'seed': 0,\n",
    "                    'subsample': 0.8, 'colsample_bytree': 0.8, 'gamma': 0, 'reg_alpha': 0, 'reg_lambda': 1}\n",
    "\n",
    "    model = xgb.XGBRegressor(**other_params)\n",
    "    optimized_GBM = GridSearchCV(estimator=model, param_grid=cv_params, scoring='r2', cv=5, verbose=1, n_jobs=4)\n",
    "    optimized_GBM.fit(train.iloc[:,:-1],train.iloc[:,-1])\n",
    "    evalute_result = optimized_GBM.grid_scores_\n",
    "    print('result:{0}'.format(evalute_result))\n",
    "    print('the best：{0}'.format(optimized_GBM.best_params_))\n",
    "    print('score:{0}'.format(optimized_GBM.best_score_))"
   ]
  },
  {
   "cell_type": "markdown",
   "metadata": {},
   "source": [
    "調 min_child_weight & max_depth"
   ]
  },
  {
   "cell_type": "code",
   "execution_count": 6,
   "metadata": {},
   "outputs": [
    {
     "name": "stdout",
     "output_type": "stream",
     "text": [
      "Fitting 5 folds for each of 48 candidates, totalling 240 fits\n"
     ]
    },
    {
     "name": "stderr",
     "output_type": "stream",
     "text": [
      "[Parallel(n_jobs=4)]: Done  42 tasks      | elapsed:   22.7s\n",
      "[Parallel(n_jobs=4)]: Done 192 tasks      | elapsed:  2.7min\n",
      "[Parallel(n_jobs=4)]: Done 240 out of 240 | elapsed:  3.8min finished\n"
     ]
    },
    {
     "name": "stdout",
     "output_type": "stream",
     "text": [
      "每轮迭代运行结果:[mean: 0.88220, std: 0.05553, params: {'max_depth': 3, 'min_child_weight': 1}, mean: 0.89046, std: 0.07678, params: {'max_depth': 3, 'min_child_weight': 2}, mean: 0.89732, std: 0.06109, params: {'max_depth': 3, 'min_child_weight': 3}, mean: 0.89332, std: 0.07499, params: {'max_depth': 3, 'min_child_weight': 4}, mean: 0.88069, std: 0.08792, params: {'max_depth': 3, 'min_child_weight': 5}, mean: 0.88353, std: 0.08289, params: {'max_depth': 3, 'min_child_weight': 6}, mean: 0.87849, std: 0.07401, params: {'max_depth': 4, 'min_child_weight': 1}, mean: 0.88947, std: 0.08856, params: {'max_depth': 4, 'min_child_weight': 2}, mean: 0.87248, std: 0.10663, params: {'max_depth': 4, 'min_child_weight': 3}, mean: 0.89128, std: 0.08664, params: {'max_depth': 4, 'min_child_weight': 4}, mean: 0.88727, std: 0.07777, params: {'max_depth': 4, 'min_child_weight': 5}, mean: 0.87559, std: 0.08427, params: {'max_depth': 4, 'min_child_weight': 6}, mean: 0.88100, std: 0.06556, params: {'max_depth': 5, 'min_child_weight': 1}, mean: 0.88188, std: 0.09056, params: {'max_depth': 5, 'min_child_weight': 2}, mean: 0.87159, std: 0.10506, params: {'max_depth': 5, 'min_child_weight': 3}, mean: 0.88226, std: 0.09857, params: {'max_depth': 5, 'min_child_weight': 4}, mean: 0.88573, std: 0.07924, params: {'max_depth': 5, 'min_child_weight': 5}, mean: 0.87497, std: 0.07320, params: {'max_depth': 5, 'min_child_weight': 6}, mean: 0.87640, std: 0.07101, params: {'max_depth': 6, 'min_child_weight': 1}, mean: 0.88654, std: 0.08625, params: {'max_depth': 6, 'min_child_weight': 2}, mean: 0.87407, std: 0.09390, params: {'max_depth': 6, 'min_child_weight': 3}, mean: 0.88844, std: 0.08740, params: {'max_depth': 6, 'min_child_weight': 4}, mean: 0.89048, std: 0.07294, params: {'max_depth': 6, 'min_child_weight': 5}, mean: 0.88469, std: 0.06906, params: {'max_depth': 6, 'min_child_weight': 6}, mean: 0.88012, std: 0.06100, params: {'max_depth': 7, 'min_child_weight': 1}, mean: 0.87941, std: 0.08666, params: {'max_depth': 7, 'min_child_weight': 2}, mean: 0.87566, std: 0.09044, params: {'max_depth': 7, 'min_child_weight': 3}, mean: 0.89066, std: 0.08963, params: {'max_depth': 7, 'min_child_weight': 4}, mean: 0.89097, std: 0.06668, params: {'max_depth': 7, 'min_child_weight': 5}, mean: 0.87984, std: 0.06881, params: {'max_depth': 7, 'min_child_weight': 6}, mean: 0.88058, std: 0.07025, params: {'max_depth': 8, 'min_child_weight': 1}, mean: 0.88874, std: 0.08273, params: {'max_depth': 8, 'min_child_weight': 2}, mean: 0.87794, std: 0.08228, params: {'max_depth': 8, 'min_child_weight': 3}, mean: 0.89104, std: 0.09402, params: {'max_depth': 8, 'min_child_weight': 4}, mean: 0.89036, std: 0.06396, params: {'max_depth': 8, 'min_child_weight': 5}, mean: 0.86967, std: 0.09426, params: {'max_depth': 8, 'min_child_weight': 6}, mean: 0.88327, std: 0.06309, params: {'max_depth': 9, 'min_child_weight': 1}, mean: 0.88715, std: 0.08683, params: {'max_depth': 9, 'min_child_weight': 2}, mean: 0.87451, std: 0.08731, params: {'max_depth': 9, 'min_child_weight': 3}, mean: 0.88990, std: 0.09309, params: {'max_depth': 9, 'min_child_weight': 4}, mean: 0.88980, std: 0.06330, params: {'max_depth': 9, 'min_child_weight': 5}, mean: 0.87921, std: 0.07049, params: {'max_depth': 9, 'min_child_weight': 6}, mean: 0.88432, std: 0.05937, params: {'max_depth': 10, 'min_child_weight': 1}, mean: 0.88877, std: 0.08509, params: {'max_depth': 10, 'min_child_weight': 2}, mean: 0.87852, std: 0.08239, params: {'max_depth': 10, 'min_child_weight': 3}, mean: 0.88655, std: 0.09970, params: {'max_depth': 10, 'min_child_weight': 4}, mean: 0.89018, std: 0.06970, params: {'max_depth': 10, 'min_child_weight': 5}, mean: 0.87919, std: 0.07158, params: {'max_depth': 10, 'min_child_weight': 6}]\n",
      "参数的最佳取值：{'max_depth': 3, 'min_child_weight': 3}\n",
      "最佳模型得分:0.8973232824830241\n"
     ]
    }
   ],
   "source": [
    "if __name__ == '__main__':\n",
    "  \n",
    "    cv_params = {'max_depth': [3, 4, 5, 6, 7, 8, 9, 10], 'min_child_weight': [1, 2, 3, 4, 5, 6]}\n",
    "    other_params = {'learning_rate': 0.1, 'n_estimators': 500, 'max_depth': 5, 'min_child_weight': 1, 'seed': 0,\n",
    "                    'subsample': 0.8, 'colsample_bytree': 0.8, 'gamma': 0, 'reg_alpha': 0, 'reg_lambda': 1}\n",
    "\n",
    "    model = xgb.XGBRegressor(**other_params)\n",
    "    optimized_GBM = GridSearchCV(estimator=model, param_grid=cv_params, scoring='r2', cv=5, verbose=1, n_jobs=4)\n",
    "    optimized_GBM.fit(train.iloc[:,:-1],train.iloc[:,-1])\n",
    "    evalute_result = optimized_GBM.grid_scores_\n",
    "    print('result:{0}'.format(evalute_result))\n",
    "    print('the best：{0}'.format(optimized_GBM.best_params_))\n",
    "    print('score:{0}'.format(optimized_GBM.best_score_))"
   ]
  },
  {
   "cell_type": "markdown",
   "metadata": {},
   "source": [
    "調 gamma"
   ]
  },
  {
   "cell_type": "code",
   "execution_count": 8,
   "metadata": {},
   "outputs": [
    {
     "name": "stdout",
     "output_type": "stream",
     "text": [
      "Fitting 5 folds for each of 6 candidates, totalling 30 fits\n"
     ]
    },
    {
     "name": "stderr",
     "output_type": "stream",
     "text": [
      "[Parallel(n_jobs=4)]: Done  30 out of  30 | elapsed:   15.0s finished\n"
     ]
    },
    {
     "name": "stdout",
     "output_type": "stream",
     "text": [
      "每轮迭代运行结果:[mean: 0.89732, std: 0.06109, params: {'gamma': 0.1}, mean: 0.89732, std: 0.06109, params: {'gamma': 0.2}, mean: 0.89732, std: 0.06109, params: {'gamma': 0.3}, mean: 0.89732, std: 0.06109, params: {'gamma': 0.4}, mean: 0.89732, std: 0.06109, params: {'gamma': 0.5}, mean: 0.89732, std: 0.06109, params: {'gamma': 0.6}]\n",
      "参数的最佳取值：{'gamma': 0.1}\n",
      "最佳模型得分:0.8973232824830241\n"
     ]
    }
   ],
   "source": [
    "if __name__ == '__main__':\n",
    "\n",
    "    cv_params = {'gamma': [0.1, 0.2, 0.3, 0.4, 0.5, 0.6]}\n",
    "    other_params = {'learning_rate': 0.1, 'n_estimators': 500, 'max_depth':3, 'min_child_weight': 3, 'seed': 0,\n",
    "                    'subsample': 0.8, 'colsample_bytree': 0.8, 'gamma': 0, 'reg_alpha': 0, 'reg_lambda': 1}\n",
    "\n",
    "    model = xgb.XGBRegressor(**other_params)\n",
    "    optimized_GBM = GridSearchCV(estimator=model, param_grid=cv_params, scoring='r2', cv=5, verbose=1, n_jobs=4)\n",
    "    optimized_GBM.fit(train.iloc[:,:-1],train.iloc[:,-1])\n",
    "    evalute_result = optimized_GBM.grid_scores_\n",
    "    print('result:{0}'.format(evalute_result))\n",
    "    print('the best：{0}'.format(optimized_GBM.best_params_))\n",
    "    print('score:{0}'.format(optimized_GBM.best_score_))"
   ]
  },
  {
   "cell_type": "markdown",
   "metadata": {},
   "source": [
    "調 subsample & colsample_bytree"
   ]
  },
  {
   "cell_type": "code",
   "execution_count": 9,
   "metadata": {},
   "outputs": [
    {
     "name": "stdout",
     "output_type": "stream",
     "text": [
      "Fitting 5 folds for each of 16 candidates, totalling 80 fits\n"
     ]
    },
    {
     "name": "stderr",
     "output_type": "stream",
     "text": [
      "[Parallel(n_jobs=4)]: Done  42 tasks      | elapsed:   18.1s\n",
      "[Parallel(n_jobs=4)]: Done  80 out of  80 | elapsed:   34.9s finished\n"
     ]
    },
    {
     "name": "stdout",
     "output_type": "stream",
     "text": [
      "每轮迭代运行结果:[mean: 0.89267, std: 0.05268, params: {'colsample_bytree': 0.6, 'subsample': 0.6}, mean: 0.90173, std: 0.03873, params: {'colsample_bytree': 0.6, 'subsample': 0.7}, mean: 0.89697, std: 0.05147, params: {'colsample_bytree': 0.6, 'subsample': 0.8}, mean: 0.90251, std: 0.05319, params: {'colsample_bytree': 0.6, 'subsample': 0.9}, mean: 0.90210, std: 0.05597, params: {'colsample_bytree': 0.7, 'subsample': 0.6}, mean: 0.89491, std: 0.04383, params: {'colsample_bytree': 0.7, 'subsample': 0.7}, mean: 0.89639, std: 0.05110, params: {'colsample_bytree': 0.7, 'subsample': 0.8}, mean: 0.88079, std: 0.09000, params: {'colsample_bytree': 0.7, 'subsample': 0.9}, mean: 0.90406, std: 0.05600, params: {'colsample_bytree': 0.8, 'subsample': 0.6}, mean: 0.89961, std: 0.04365, params: {'colsample_bytree': 0.8, 'subsample': 0.7}, mean: 0.89732, std: 0.06109, params: {'colsample_bytree': 0.8, 'subsample': 0.8}, mean: 0.89070, std: 0.07036, params: {'colsample_bytree': 0.8, 'subsample': 0.9}, mean: 0.90209, std: 0.05579, params: {'colsample_bytree': 0.9, 'subsample': 0.6}, mean: 0.89488, std: 0.06166, params: {'colsample_bytree': 0.9, 'subsample': 0.7}, mean: 0.88994, std: 0.07705, params: {'colsample_bytree': 0.9, 'subsample': 0.8}, mean: 0.88973, std: 0.07394, params: {'colsample_bytree': 0.9, 'subsample': 0.9}]\n",
      "参数的最佳取值：{'colsample_bytree': 0.8, 'subsample': 0.6}\n",
      "最佳模型得分:0.9040645395519843\n"
     ]
    }
   ],
   "source": [
    "if __name__ == '__main__':\n",
    "\n",
    "    cv_params = {'subsample': [0.6, 0.7, 0.8, 0.9], 'colsample_bytree': [0.6, 0.7, 0.8, 0.9]}\n",
    "    other_params = {'learning_rate': 0.1, 'n_estimators': 500, 'max_depth': 3, 'min_child_weight':3, 'seed': 0,\n",
    "                    'subsample': 0.8, 'colsample_bytree': 0.8, 'gamma': 0.1, 'reg_alpha': 0, 'reg_lambda': 1}\n",
    "\n",
    "    model = xgb.XGBRegressor(**other_params)\n",
    "    optimized_GBM = GridSearchCV(estimator=model, param_grid=cv_params, scoring='r2', cv=5, verbose=1, n_jobs=4)\n",
    "    optimized_GBM.fit(train.iloc[:,:-1],train.iloc[:,-1])\n",
    "    evalute_result = optimized_GBM.grid_scores_\n",
    "    print('result:{0}'.format(evalute_result))\n",
    "    print('the best：{0}'.format(optimized_GBM.best_params_))\n",
    "    print('score:{0}'.format(optimized_GBM.best_score_))"
   ]
  },
  {
   "cell_type": "markdown",
   "metadata": {},
   "source": [
    "調 reg_alpha & reg_lambda"
   ]
  },
  {
   "cell_type": "code",
   "execution_count": 10,
   "metadata": {},
   "outputs": [
    {
     "name": "stdout",
     "output_type": "stream",
     "text": [
      "Fitting 5 folds for each of 25 candidates, totalling 125 fits\n"
     ]
    },
    {
     "name": "stderr",
     "output_type": "stream",
     "text": [
      "[Parallel(n_jobs=4)]: Done  42 tasks      | elapsed:   20.1s\n",
      "[Parallel(n_jobs=4)]: Done 125 out of 125 | elapsed:   54.0s finished\n"
     ]
    },
    {
     "name": "stdout",
     "output_type": "stream",
     "text": [
      "每轮迭代运行结果:[mean: 0.89123, std: 0.07613, params: {'reg_alpha': 0.05, 'reg_lambda': 0.05}, mean: 0.89404, std: 0.07269, params: {'reg_alpha': 0.05, 'reg_lambda': 0.1}, mean: 0.90406, std: 0.05600, params: {'reg_alpha': 0.05, 'reg_lambda': 1}, mean: 0.89677, std: 0.06364, params: {'reg_alpha': 0.05, 'reg_lambda': 2}, mean: 0.89715, std: 0.06630, params: {'reg_alpha': 0.05, 'reg_lambda': 3}, mean: 0.89123, std: 0.07613, params: {'reg_alpha': 0.1, 'reg_lambda': 0.05}, mean: 0.89358, std: 0.07375, params: {'reg_alpha': 0.1, 'reg_lambda': 0.1}, mean: 0.90443, std: 0.05530, params: {'reg_alpha': 0.1, 'reg_lambda': 1}, mean: 0.89636, std: 0.06330, params: {'reg_alpha': 0.1, 'reg_lambda': 2}, mean: 0.89715, std: 0.06630, params: {'reg_alpha': 0.1, 'reg_lambda': 3}, mean: 0.89326, std: 0.07041, params: {'reg_alpha': 1, 'reg_lambda': 0.05}, mean: 0.89334, std: 0.07310, params: {'reg_alpha': 1, 'reg_lambda': 0.1}, mean: 0.90311, std: 0.05426, params: {'reg_alpha': 1, 'reg_lambda': 1}, mean: 0.89573, std: 0.06436, params: {'reg_alpha': 1, 'reg_lambda': 2}, mean: 0.89827, std: 0.06721, params: {'reg_alpha': 1, 'reg_lambda': 3}, mean: 0.89553, std: 0.07107, params: {'reg_alpha': 2, 'reg_lambda': 0.05}, mean: 0.89338, std: 0.07311, params: {'reg_alpha': 2, 'reg_lambda': 0.1}, mean: 0.90182, std: 0.05770, params: {'reg_alpha': 2, 'reg_lambda': 1}, mean: 0.89500, std: 0.06581, params: {'reg_alpha': 2, 'reg_lambda': 2}, mean: 0.89799, std: 0.06649, params: {'reg_alpha': 2, 'reg_lambda': 3}, mean: 0.89494, std: 0.07200, params: {'reg_alpha': 3, 'reg_lambda': 0.05}, mean: 0.89553, std: 0.07265, params: {'reg_alpha': 3, 'reg_lambda': 0.1}, mean: 0.90271, std: 0.05627, params: {'reg_alpha': 3, 'reg_lambda': 1}, mean: 0.89576, std: 0.06383, params: {'reg_alpha': 3, 'reg_lambda': 2}, mean: 0.89787, std: 0.06621, params: {'reg_alpha': 3, 'reg_lambda': 3}]\n",
      "参数的最佳取值：{'reg_alpha': 0.1, 'reg_lambda': 1}\n",
      "最佳模型得分:0.9044349721892392\n"
     ]
    }
   ],
   "source": [
    "if __name__ == '__main__':\n",
    "\n",
    "    cv_params = {'reg_alpha': [0.05, 0.1, 1, 2, 3], 'reg_lambda': [0.05, 0.1, 1, 2, 3]}\n",
    "    other_params = {'learning_rate': 0.1, 'n_estimators': 500, 'max_depth': 3, 'min_child_weight': 3, 'seed': 0,\n",
    "                    'subsample': 0.6, 'colsample_bytree': 0.8, 'gamma': 0.1, 'reg_alpha': 0, 'reg_lambda': 1}\n",
    "\n",
    "    model = xgb.XGBRegressor(**other_params)\n",
    "    optimized_GBM = GridSearchCV(estimator=model, param_grid=cv_params, scoring='r2', cv=5, verbose=1, n_jobs=4)\n",
    "    optimized_GBM.fit(train.iloc[:,:-1],train.iloc[:,-1])\n",
    "    evalute_result = optimized_GBM.grid_scores_\n",
    "    print('result:{0}'.format(evalute_result))\n",
    "    print('the best：{0}'.format(optimized_GBM.best_params_))\n",
    "    print('score:{0}'.format(optimized_GBM.best_score_))"
   ]
  },
  {
   "cell_type": "markdown",
   "metadata": {},
   "source": [
    "調 learning rate"
   ]
  },
  {
   "cell_type": "code",
   "execution_count": 11,
   "metadata": {},
   "outputs": [
    {
     "name": "stdout",
     "output_type": "stream",
     "text": [
      "Fitting 5 folds for each of 5 candidates, totalling 25 fits\n"
     ]
    },
    {
     "name": "stderr",
     "output_type": "stream",
     "text": [
      "[Parallel(n_jobs=4)]: Done  25 out of  25 | elapsed:   12.3s finished\n"
     ]
    },
    {
     "name": "stdout",
     "output_type": "stream",
     "text": [
      "每轮迭代运行结果:[mean: 0.84391, std: 0.04082, params: {'learning_rate': 0.01}, mean: 0.89364, std: 0.05458, params: {'learning_rate': 0.05}, mean: 0.90055, std: 0.04996, params: {'learning_rate': 0.07}, mean: 0.90443, std: 0.05530, params: {'learning_rate': 0.1}, mean: 0.88719, std: 0.05852, params: {'learning_rate': 0.2}]\n",
      "参数的最佳取值：{'learning_rate': 0.1}\n",
      "最佳模型得分:0.9044349721892392\n"
     ]
    }
   ],
   "source": [
    "if __name__ == '__main__':\n",
    "\n",
    "    cv_params = {'learning_rate': [0.01, 0.05, 0.07, 0.1, 0.2]}\n",
    "    other_params = {'learning_rate': 0.1, 'n_estimators': 500, 'max_depth': 3, 'min_child_weight': 3, 'seed': 0,\n",
    "                    'subsample': 0.6, 'colsample_bytree': 0.8, 'gamma': 0.1, 'reg_alpha': 0.1, 'reg_lambda': 1}\n",
    "\n",
    "    model = xgb.XGBRegressor(**other_params)\n",
    "    optimized_GBM = GridSearchCV(estimator=model, param_grid=cv_params, scoring='r2', cv=5, verbose=1, n_jobs=4)\n",
    "    optimized_GBM.fit(train.iloc[:,:-1],train.iloc[:,-1])\n",
    "    evalute_result = optimized_GBM.grid_scores_\n",
    "    print('result:{0}'.format(evalute_result))\n",
    "    print('the best：{0}'.format(optimized_GBM.best_params_))\n",
    "    print('score:{0}'.format(optimized_GBM.best_score_))"
   ]
  },
  {
   "cell_type": "markdown",
   "metadata": {},
   "source": [
    "-------------"
   ]
  }
 ],
 "metadata": {
  "kernelspec": {
   "display_name": "Python 3",
   "language": "python",
   "name": "python3"
  },
  "language_info": {
   "codemirror_mode": {
    "name": "ipython",
    "version": 3
   },
   "file_extension": ".py",
   "mimetype": "text/x-python",
   "name": "python",
   "nbconvert_exporter": "python",
   "pygments_lexer": "ipython3",
   "version": "3.7.0"
  }
 },
 "nbformat": 4,
 "nbformat_minor": 2
}
