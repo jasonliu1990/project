{
 "cells": [
  {
   "cell_type": "markdown",
   "metadata": {},
   "source": [
    "## 異部爬蟲\n",
    "* 使用 `aiohttp` & `asyncio`\n",
    "* 安裝 \n",
    "    * `pip install asyncio`\n",
    "    * `pip install aiohttp`\n",
    "* jupyter notebook 報錯 Runtime Error 解法:\n",
    "    * `pip install nest_asyncio`\n",
    "        * import之後 `nest_asyncio.apply()`\n",
    "    * 確認套件 `tornado` 版本, >= 5 會有衝突\n",
    "        * `pip install tornado==4.5.3`\n",
    "        "
   ]
  },
  {
   "cell_type": "code",
   "execution_count": null,
   "metadata": {},
   "outputs": [],
   "source": [
    "import pandas as pd\n",
    "import json\n",
    "import time\n",
    "import requests\n",
    "import aiohttp\n",
    "import asyncio\n",
    "import nest_asyncio\n",
    "nest_asyncio.apply()\n",
    "import warnings\n",
    "warnings.filterwarnings('ignore')"
   ]
  },
  {
   "cell_type": "markdown",
   "metadata": {},
   "source": [
    "### data\n",
    "* 使用104的資料, 抽28個網址當作測試, 目標是提取每家公司的職缺數\n",
    "\n",
    "\n"
   ]
  },
  {
   "cell_type": "code",
   "execution_count": null,
   "metadata": {},
   "outputs": [],
   "source": [
    "test_url = ['https://www.104.com.tw/company/ajax/joblist/cu5l2yg',\n",
    "            'https://www.104.com.tw/company/ajax/joblist/18tfytrc',\n",
    "            'https://www.104.com.tw/company/ajax/joblist/cit8qrk',\n",
    "            'https://www.104.com.tw/company/ajax/joblist/1a2x6bkort',\n",
    "            'https://www.104.com.tw/company/ajax/joblist/1a2x6bjzjj',\n",
    "            'https://www.104.com.tw/company/ajax/joblist/aldnfbc',\n",
    "            'https://www.104.com.tw/company/ajax/joblist/20816qw',\n",
    "            'https://www.104.com.tw/company/ajax/joblist/1a2x6bl5f2',\n",
    "            'https://www.104.com.tw/company/ajax/joblist/1a2x6bkz5g',\n",
    "            'https://www.104.com.tw/company/ajax/joblist/1a2x6bkvj6',\n",
    "            'https://www.104.com.tw/company/ajax/joblist/fuw5umg',\n",
    "            'https://www.104.com.tw/company/ajax/joblist/xtxy0wo',\n",
    "            'https://www.104.com.tw/company/ajax/joblist/xjf9b4o',\n",
    "            'https://www.104.com.tw/company/ajax/joblist/yvhv2k0',\n",
    "            'https://www.104.com.tw/company/ajax/joblist/2a6xnbk',\n",
    "            'https://www.104.com.tw/company/ajax/joblist/1a2x6bj4l8',\n",
    "            'https://www.104.com.tw/company/ajax/joblist/4bn0uio',\n",
    "            'https://www.104.com.tw/company/ajax/joblist/18kefvtc',\n",
    "            'https://www.104.com.tw/company/ajax/joblist/aetgx1c',\n",
    "            'https://www.104.com.tw/company/ajax/joblist/1a2x6bkgbz',\n",
    "            'https://www.104.com.tw/company/ajax/joblist/1a2x6bjimk',\n",
    "            'https://www.104.com.tw/company/ajax/joblist/1a2x6bkq8q',\n",
    "            'https://www.104.com.tw/company/ajax/joblist/9k1zdso',\n",
    "            'https://www.104.com.tw/company/ajax/joblist/5fpgamw',\n",
    "            'https://www.104.com.tw/company/ajax/joblist/13hn9jxk',\n",
    "            'https://www.104.com.tw/company/ajax/joblist/clw1usg',\n",
    "            'https://www.104.com.tw/company/ajax/joblist/1a2x6bknb6',\n",
    "            'https://www.104.com.tw/company/ajax/joblist/1a2x6bivq9']"
   ]
  },
  {
   "cell_type": "markdown",
   "metadata": {},
   "source": [
    "### 使用 requests"
   ]
  },
  {
   "cell_type": "code",
   "execution_count": null,
   "metadata": {},
   "outputs": [],
   "source": [
    "t1 = time.time()\n",
    "res_list = []\n",
    "for url in test_url:\n",
    "    tmp_dict = {}\n",
    "    cnt = json.loads(requests.get(url, verify=False).text)['data']['totalCount']\n",
    "    tmp_dict = {'cnt': cnt,\n",
    "                'url': url}\n",
    "    res_list.append(tmp_dict)\n",
    "print(\"requests total time:\", time.time() - t1)\n",
    "\"\"\"requests total time: 1.955094575881958\"\"\""
   ]
  },
  {
   "cell_type": "markdown",
   "metadata": {},
   "source": [
    "### 使用asyncio & aiohttp"
   ]
  },
  {
   "cell_type": "code",
   "execution_count": null,
   "metadata": {},
   "outputs": [],
   "source": [
    "async def fetch_coroutine(client, url):\n",
    "    response = await client.get(url)       # 等待並切換\n",
    "    data = await response.text()\n",
    "    data = json.loads(data)\n",
    "    cnt = data['data']['totalCount']\n",
    "    \n",
    "    result_dict = {\n",
    "        'cnt': cnt,\n",
    "        'url': url\n",
    "    }\n",
    "    return result_dict\n",
    "\n",
    "async def main(loop):\n",
    "    headers = {'user-agent': 'Mozilla/5.0 (Windows NT 6.1) AppleWebKit/537.36 (KHTML, like Gecko) Chrome/52.0.2743.116 Safari/537.36'}\n",
    "    async with aiohttp.ClientSession(loop=loop, headers=headers, conn_timeout=5 ) as client:\n",
    "        tasks = [fetch_coroutine(client, url) for url in test_url]     #fetch_coroutine為重複執行的function #把所有task打包                          \n",
    "        finished, unfinished = await asyncio.wait(tasks)  \n",
    "        all_results = [r.result() for r in finished]    # 獲取所有結果\n",
    "        return all_results"
   ]
  },
  {
   "cell_type": "code",
   "execution_count": null,
   "metadata": {},
   "outputs": [],
   "source": [
    "t1 = time.time()\n",
    "loop = asyncio.get_event_loop()\n",
    "all_results = loop.run_until_complete(main(loop))\n",
    "print(\"Async total time:\", time.time() - t1)\n",
    "\"\"\"Async total time: 0.18433618545532227\"\"\""
   ]
  }
 ],
 "metadata": {
  "kernelspec": {
   "display_name": "pyscraper",
   "language": "python",
   "name": "pyscraper"
  },
  "language_info": {
   "codemirror_mode": {
    "name": "ipython",
    "version": 3
   },
   "file_extension": ".py",
   "mimetype": "text/x-python",
   "name": "python",
   "nbconvert_exporter": "python",
   "pygments_lexer": "ipython3",
   "version": "3.7.7"
  }
 },
 "nbformat": 4,
 "nbformat_minor": 4
}
