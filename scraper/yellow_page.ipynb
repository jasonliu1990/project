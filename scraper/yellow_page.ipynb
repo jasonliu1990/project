import numpy as np
import pandas as pd
from bs4 import BeautifulSoup
import requests
import json
import time
import random
import re
from itertools import chain
def clean_tel(x):
    x = x.text
    x = re.split('：', x)

    return x
def clean(x):
    x = x.text
    x = x.replace('\n', '').replace('\t', '').replace('\xa0', '').replace('\r', '')  
    x = re.split('、|：', x)

    return x
def yellow_page(tmp_url):
    i = 1
    company_df = pd.DataFrame()
    # 拿Page
    r = requests.get(tmp_url%1, headers=headers, verify=False, timeout=30)
    r.encoding='BIG5'
    html = BeautifulSoup(r.text, 'html.parser')
    td_list = list(map(lambda x: x.text, html.find_all('td', attrs={"class": "h-center"})))
    td_list = list(map(lambda x: x.replace('\n', '').replace('\xa0', ''), td_list))
    td_list = list(filter(None, map(lambda x: x.replace('\r', '').replace('\t', ''), td_list)))
    td_list = list(chain(*list(map(lambda x: x.split(':'), td_list))))
    target = td_list.index(' 頁次') + 1
    tmp_page = td_list[target]
    tmp_page = re.split(r'[/\s]\s*', tmp_page)[1]
    page = int(re.sub('[^0-9]', '', tmp_page))
    print(page)
    while True:

        r = requests.get(tmp_url%i, headers=headers)
        r.encoding='BIG5'
        html = BeautifulSoup(r.text, 'html.parser')
        comp_list = html.select('b')
        black_font = html.find_all('font',attrs={"color": "black"})
        black_font = list(map(lambda x: x.text, black_font))
        tel_list = list(filter(None, map(lambda x: re.sub('[^0-9()]', '', x), black_font)))

        context_list = html.find_all('td',attrs={"colspan": "4"})
        comp_list = list(map(lambda x: x.text, comp_list))
        tmp_list = list(map(lambda x: clean(x), context_list))
        comp_web = tmp_list[::3]
        comp_web_list = list(map(lambda x: x[1].strip(), comp_web))
        addr = tmp_list[1::3]
        addr_list = list(map(lambda x: x[1].strip(), addr))
        tmp_attr_list = tmp_list[2::3]
        type_list = list(map(lambda x: x[1:], tmp_attr_list))

        comp_df = pd.DataFrame({'company': comp_list,
                                'web': comp_web_list,
                                'addr' :addr_list,
                                'tel': tel_list
                               })
        company_df = pd.concat([company_df, comp_df], axis=0)
        print(i)
        i += 1
        time.sleep(1)
        if i > page:
            break
    
    return company_df
